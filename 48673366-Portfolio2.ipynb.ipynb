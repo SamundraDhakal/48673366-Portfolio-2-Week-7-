{
  "cells": [
    {
      "cell_type": "markdown",
      "id": "rSF_UH-XklO4",
      "metadata": {
        "id": "rSF_UH-XklO4"
      },
      "source": [
        "## Analysis of a Car Sell Dataset Part 2"
      ]
    },
    {
      "cell_type": "markdown",
      "id": "aWJHrXuwklO5",
      "metadata": {
        "id": "aWJHrXuwklO5"
      },
      "source": [
        "There are two goals in the second analysis task: (1), train linear regression models to predict the selling prices of cars; (2) assess the data ethics issues. There are *7* questions in this portfolio.\n",
        "\n",
        "The first goal involves a standard Data Science workflow: exploring data, building models, making predictions, and evaluating results. In this task, we will explore the impacts of feature selections and different sizes of training/testing data on the model performance. We will use another cleaned car_sells sub-dataset that **is different from** the one in “Analysis of a Car Sell Dataset” task 1. This goal covers Questions *1-6*.\n",
        "\n",
        "Question *7* is about data ethics issue."
      ]
    },
    {
      "cell_type": "code",
      "execution_count": null,
      "id": "f2b11c57",
      "metadata": {
        "id": "f2b11c57"
      },
      "outputs": [],
      "source": [
        "your_name = \"Samundra Dhakal\"\n",
        "your_student_id = \"48673366\""
      ]
    },
    {
      "cell_type": "code",
      "execution_count": null,
      "id": "0e327626",
      "metadata": {
        "id": "0e327626"
      },
      "outputs": [],
      "source": [
        "import pandas as pd\n",
        "import numpy as np\n",
        "from sklearn.model_selection import train_test_split\n",
        "from sklearn import linear_model\n",
        "from sklearn.metrics import r2_score\n",
        "\n",
        "import seaborn as sns\n",
        "import matplotlib.pylab as plt\n",
        "%matplotlib inline"
      ]
    },
    {
      "cell_type": "markdown",
      "id": "0g4OhHHzklO6",
      "metadata": {
        "id": "0g4OhHHzklO6"
      },
      "source": [
        "### Q1: Import Cleaned Car Sell Dataset\n",
        "The csv file named 'car_sells_clean_data.csv' is provided. You may need to use the Pandas method, i.e., `read_csv`, for reading it. After that, please print out its total length."
      ]
    },
    {
      "cell_type": "code",
      "execution_count": null,
      "id": "9ki1LBees70W",
      "metadata": {
        "colab": {
          "base_uri": "https://localhost:8080/"
        },
        "id": "9ki1LBees70W",
        "outputId": "bd4104e8-262f-466e-c574-ba4c42781096"
      },
      "outputs": [
        {
          "output_type": "stream",
          "name": "stdout",
          "text": [
            "Total length of the dataset: 3657\n"
          ]
        }
      ],
      "source": [
        "df = pd.read_csv('car_sells_clean_data.csv')\n",
        "print(f\"Total length of the dataset: {len(df)}\")"
      ]
    },
    {
      "cell_type": "markdown",
      "id": "RpXf1q3UklO7",
      "metadata": {
        "id": "RpXf1q3UklO7"
      },
      "source": [
        "### Q2: Explore the Dataset\n",
        "\n",
        "* Use the methods, i.e., `head()` and `info()`, to have a rough picture about the data, e.g., how many columns, and the data types of each column.\n",
        "* As our goal is to predict cars' selling prices given other columns, please get the correlations between year/km_driven/seller_type/fuel/owner and selling_price by using the `corr()` method.\n",
        "* To get the correlations between different features, you may need to first convert the categorical features (i.e., seller_type and owner) into numerial values. For doing this, you may need to import `OrdinalEncoder` from `sklearn.preprocessing` (refer to the useful exmaples [here](https://pbpython.com/categorical-encoding.html))\n",
        "* Please provide ___necessary explanations/analysis___ on the correlations, and figure out which are the ___most___ and ___least___ corrleated features regarding selling_price. Try to ___discuss___ how the correlation will affect the final prediction results, if we use these features to train a regression model for selling_price prediction. In what follows, we will conduct experiments to verify your hypothesis."
      ]
    },
    {
      "cell_type": "code",
      "execution_count": null,
      "id": "7551c655",
      "metadata": {
        "colab": {
          "base_uri": "https://localhost:8080/"
        },
        "id": "7551c655",
        "outputId": "700b575f-cd05-414a-81e1-dc82fa813f57"
      },
      "outputs": [
        {
          "output_type": "stream",
          "name": "stdout",
          "text": [
            "First few rows of the dataset:\n",
            "                       name    year  selling_price  km_driven    fuel  \\\n",
            "0             Maruti 800 AC  2007.0          60000      70000  Petrol   \n",
            "1  Maruti Wagon R LXI Minor  2007.0         135000      50000  Petrol   \n",
            "2      Hyundai Verna 1.6 SX  2012.0         600000     100000  Diesel   \n",
            "3    Datsun RediGO T Option  2017.0         250000      46000  Petrol   \n",
            "4     Honda Amaze VX i-DTEC  2014.0         450000     141000  Diesel   \n",
            "\n",
            "  seller_type transmission         owner  \n",
            "0  Individual       Manual   First Owner  \n",
            "1  Individual       Manual   First Owner  \n",
            "2  Individual       Manual   First Owner  \n",
            "3  Individual       Manual   First Owner  \n",
            "4  Individual       Manual  Second Owner  \n",
            "\n",
            "Dataset info:\n",
            "<class 'pandas.core.frame.DataFrame'>\n",
            "RangeIndex: 3657 entries, 0 to 3656\n",
            "Data columns (total 8 columns):\n",
            " #   Column         Non-Null Count  Dtype  \n",
            "---  ------         --------------  -----  \n",
            " 0   name           3657 non-null   object \n",
            " 1   year           3657 non-null   float64\n",
            " 2   selling_price  3657 non-null   int64  \n",
            " 3   km_driven      3657 non-null   int64  \n",
            " 4   fuel           3657 non-null   object \n",
            " 5   seller_type    3657 non-null   object \n",
            " 6   transmission   3657 non-null   object \n",
            " 7   owner          3657 non-null   object \n",
            "dtypes: float64(1), int64(2), object(5)\n",
            "memory usage: 228.7+ KB\n",
            "None\n"
          ]
        }
      ],
      "source": [
        "df = pd.read_csv('car_sells_clean_data.csv')\n",
        "print(\"First few rows of the dataset:\")\n",
        "print(df.head())\n",
        "print(\"\\nDataset info:\")\n",
        "print(df.info())"
      ]
    },
    {
      "cell_type": "markdown",
      "id": "C3DFUuGXklO_",
      "metadata": {
        "id": "C3DFUuGXklO_"
      },
      "source": [
        "### Q3: Split Training and Testing Data\n",
        "* Machine learning models are trained to help make predictions for the future. Normally, we need to randomly split the dataset into training and testing sets, where we use the training set to train the model, and then leverage the well-trained model to make predictions on the testing set.\n",
        "* To further investigate whether the size of the training/testing data affects the model performance, please randomly split the data into training and testing sets with different sizes:\n",
        "    * Case 1: training data containing 10% of the entire data;\n",
        "    * Case 2: training data containing 90% of the entire data.\n",
        "* Print the shape of training and testing sets in the two cases."
      ]
    },
    {
      "cell_type": "code",
      "execution_count": null,
      "id": "47f6b5cd",
      "metadata": {
        "colab": {
          "base_uri": "https://localhost:8080/"
        },
        "id": "47f6b5cd",
        "outputId": "2ba443ad-361d-4f12-c6ba-12949719c824"
      },
      "outputs": [
        {
          "output_type": "stream",
          "name": "stdout",
          "text": [
            "Case 1: Training data with 10% of the entire data\n",
            "Training set shape: (365, 7)\n",
            "Testing set shape: (3292, 7)\n"
          ]
        }
      ],
      "source": [
        "df = pd.read_csv('car_sells_clean_data.csv')\n",
        "\n",
        "X = df.drop('selling_price', axis=1)\n",
        "y = df['selling_price']\n",
        "X_train_10, X_test_10, y_train_10, y_test_10 = train_test_split(\n",
        "    X, y, test_size=0.9, random_state=42\n",
        "    )\n",
        "\n",
        "print(\"Case 1: Training data with 10% of the entire data\")\n",
        "print(f\"Training set shape: {X_train_10.shape}\")\n",
        "print(f\"Testing set shape: {X_test_10.shape}\")\n",
        "\n"
      ]
    },
    {
      "cell_type": "code",
      "source": [
        "X_train_90, X_test_90, y_train_90, y_test_90 = train_test_split(\n",
        "    X, y, test_size=0.1, random_state=42\n",
        ")\n",
        "\n",
        "print(\"\\nCase 2: Training data with 90% of the entire data\")\n",
        "print(f\"Training set shape: {X_train_90.shape}\")\n",
        "print(f\"Testing set shape: {X_test_90.shape}\")"
      ],
      "metadata": {
        "colab": {
          "base_uri": "https://localhost:8080/"
        },
        "id": "2uJJUon2w7Ex",
        "outputId": "9d029fcf-f241-414c-e796-203d2be2c92f"
      },
      "id": "2uJJUon2w7Ex",
      "execution_count": null,
      "outputs": [
        {
          "output_type": "stream",
          "name": "stdout",
          "text": [
            "\n",
            "Case 2: Training data with 90% of the entire data\n",
            "Training set shape: (3291, 7)\n",
            "Testing set shape: (366, 7)\n"
          ]
        }
      ]
    },
    {
      "cell_type": "markdown",
      "id": "WiNRCPFoklO_",
      "metadata": {
        "id": "WiNRCPFoklO_"
      },
      "source": [
        "### Q4: Train Linear Regression Models with Feature Selection under Cases 1 & 2\n",
        "* When training a machine learning model for prediction, we may need to select the most important/correlated input features for more accurate results.\n",
        "* To investigate whether feature selection affects the model performance, please select two most correlated features and two least correlated features regarding selling_price, respectively.\n",
        "* Train four linear regression models by following the conditions:\n",
        "    - (model-a) using the training/testing data in case 1 with two most correlated input features\n",
        "    - (model-b) using the training/testing data in case 1 with two least correlated input features\n",
        "    - (model-c) using the training/testing data in case 2 with two most correlated input features\n",
        "    - (model-d) using the training/testing data in case 2 with two least correlated input features\n",
        "* By doing this, we can verify the impacts of the size of traing/testing data on the model performance via comparing model-a and model-c (or model-b and model-d); meanwhile the impacts of feature selection can be validated via comparing model-a and model-b (or model-c and model-d).    "
      ]
    },
    {
      "cell_type": "code",
      "source": [
        "from sklearn.linear_model import LinearRegression\n",
        "from sklearn.metrics import r2_score\n",
        "df = pd.read_csv('car_sells_clean_data.csv')\n"
      ],
      "metadata": {
        "id": "hbt94aCFzS12"
      },
      "id": "hbt94aCFzS12",
      "execution_count": null,
      "outputs": []
    },
    {
      "cell_type": "code",
      "source": [
        "from sklearn.preprocessing import OrdinalEncoder\n",
        "encoder = OrdinalEncoder()\n",
        "df[['fuel', 'seller_type', 'owner']] = encoder.fit_transform(df[['fuel', 'seller_type', 'owner']])\n"
      ],
      "metadata": {
        "id": "KznVyhJQz7BI"
      },
      "id": "KznVyhJQz7BI",
      "execution_count": null,
      "outputs": []
    },
    {
      "cell_type": "code",
      "source": [
        "corr_matrix = df[['year', 'km_driven', 'seller_type', 'fuel', 'owner', 'selling_price']].corr()\n",
        "print(\"Correlation matrix:\\n\", corr_matrix)"
      ],
      "metadata": {
        "colab": {
          "base_uri": "https://localhost:8080/"
        },
        "id": "kdmbD5Ll0F03",
        "outputId": "50ea5853-4115-41aa-b5d0-7467d30df9c7"
      },
      "id": "kdmbD5Ll0F03",
      "execution_count": null,
      "outputs": [
        {
          "output_type": "stream",
          "name": "stdout",
          "text": [
            "Correlation matrix:\n",
            "                    year  km_driven  seller_type      fuel     owner  \\\n",
            "year           1.000000  -0.404058    -0.139135 -0.118542 -0.433406   \n",
            "km_driven     -0.404058   1.000000     0.147376 -0.297764  0.306730   \n",
            "seller_type   -0.139135   0.147376     1.000000  0.036755  0.239288   \n",
            "fuel          -0.118542  -0.297764     0.036755  1.000000 -0.017217   \n",
            "owner         -0.433406   0.306730     0.239288 -0.017217  1.000000   \n",
            "selling_price  0.411103  -0.177203    -0.208637 -0.277627 -0.205524   \n",
            "\n",
            "               selling_price  \n",
            "year                0.411103  \n",
            "km_driven          -0.177203  \n",
            "seller_type        -0.208637  \n",
            "fuel               -0.277627  \n",
            "owner              -0.205524  \n",
            "selling_price       1.000000  \n"
          ]
        }
      ]
    },
    {
      "cell_type": "code",
      "source": [
        "most_correlated = ['year', 'seller_type']\n",
        "least_correlated = ['fuel', 'owner']"
      ],
      "metadata": {
        "id": "gkLpcIBb0IGA"
      },
      "id": "gkLpcIBb0IGA",
      "execution_count": null,
      "outputs": []
    },
    {
      "cell_type": "code",
      "source": [
        "X_most_corr = df[most_correlated]\n",
        "X_least_corr = df[least_correlated]\n",
        "y = df['selling_price']"
      ],
      "metadata": {
        "id": "QU5FEQ6L0S7Z"
      },
      "id": "QU5FEQ6L0S7Z",
      "execution_count": null,
      "outputs": []
    },
    {
      "cell_type": "code",
      "source": [
        "X_train_10_most, X_test_90_most, y_train_10, y_test_90 = train_test_split(X_most_corr, y, train_size=0.1, random_state=42)\n",
        "X_train_90_most, X_test_10_most, y_train_90, y_test_10 = train_test_split(X_most_corr, y, train_size=0.9, random_state=42)\n",
        "\n",
        "X_train_10_least, X_test_90_least, _, _ = train_test_split(X_least_corr, y, train_size=0.1, random_state=42)\n",
        "X_train_90_least, X_test_10_least, _, _ = train_test_split(X_least_corr, y, train_size=0.9, random_state=42)"
      ],
      "metadata": {
        "id": "GhCakRBS0Vho"
      },
      "id": "GhCakRBS0Vho",
      "execution_count": null,
      "outputs": []
    },
    {
      "cell_type": "code",
      "source": [
        "def train_and_evaluate(X_train, X_test, y_train, y_test, case, feature_type):\n",
        "    model = LinearRegression()\n",
        "    model.fit(X_train, y_train)\n",
        "    predictions = model.predict(X_test)\n",
        "    r2 = r2_score(y_test, predictions)\n",
        "    print(f\"Model {case}-{feature_type}: R2 score = {r2}\")\n"
      ],
      "metadata": {
        "id": "XU8iP3j70Zib"
      },
      "id": "XU8iP3j70Zib",
      "execution_count": null,
      "outputs": []
    },
    {
      "cell_type": "code",
      "source": [
        "train_and_evaluate(X_train_10_most, X_test_90_most, y_train_10, y_test_90, 'a', 'most')\n"
      ],
      "metadata": {
        "colab": {
          "base_uri": "https://localhost:8080/"
        },
        "id": "z6w9i7Bm0eaW",
        "outputId": "7fe5eafe-9d77-4dcb-d09e-94b824d1b4cd"
      },
      "id": "z6w9i7Bm0eaW",
      "execution_count": null,
      "outputs": [
        {
          "output_type": "stream",
          "name": "stdout",
          "text": [
            "Model a-most: R2 score = 0.16772045139989866\n"
          ]
        }
      ]
    },
    {
      "cell_type": "code",
      "source": [
        "train_and_evaluate(X_train_10_least, X_test_90_least, y_train_10, y_test_90, 'b', 'least')"
      ],
      "metadata": {
        "colab": {
          "base_uri": "https://localhost:8080/"
        },
        "id": "o6RJP_MI0jd_",
        "outputId": "27bf62a4-ef34-4da4-bcf9-69859292603c"
      },
      "id": "o6RJP_MI0jd_",
      "execution_count": null,
      "outputs": [
        {
          "output_type": "stream",
          "name": "stdout",
          "text": [
            "Model b-least: R2 score = 0.11911510062927688\n"
          ]
        }
      ]
    },
    {
      "cell_type": "code",
      "source": [
        "train_and_evaluate(X_train_90_most, X_test_10_most, y_train_90, y_test_10, 'c', 'most')"
      ],
      "metadata": {
        "colab": {
          "base_uri": "https://localhost:8080/"
        },
        "id": "SFOlzv5b0mfV",
        "outputId": "b750c352-6754-41b5-b5bc-a47f22ac5188"
      },
      "id": "SFOlzv5b0mfV",
      "execution_count": null,
      "outputs": [
        {
          "output_type": "stream",
          "name": "stdout",
          "text": [
            "Model c-most: R2 score = 0.2107453911252879\n"
          ]
        }
      ]
    },
    {
      "cell_type": "code",
      "source": [
        "train_and_evaluate(X_train_90_least, X_test_10_least, y_train_90, y_test_10, 'd', 'least')"
      ],
      "metadata": {
        "colab": {
          "base_uri": "https://localhost:8080/"
        },
        "id": "ePGr6NBk0n-_",
        "outputId": "be05c8e1-2bca-4283-f32c-b1b013369102"
      },
      "id": "ePGr6NBk0n-_",
      "execution_count": null,
      "outputs": [
        {
          "output_type": "stream",
          "name": "stdout",
          "text": [
            "Model d-least: R2 score = 0.16919353125019032\n"
          ]
        }
      ]
    },
    {
      "cell_type": "markdown",
      "id": "uIHDIRCYklO_",
      "metadata": {
        "id": "uIHDIRCYklO_"
      },
      "source": [
        "### Q5: Evaluate Models\n",
        "* Evaluate the performance of the four models with two metrics, including MSE and Root MSE\n",
        "* Print the results of the four models regarding the two metrics"
      ]
    },
    {
      "cell_type": "code",
      "source": [
        "from sklearn.model_selection import train_test_split\n",
        "from sklearn.linear_model import LinearRegression\n",
        "from sklearn.metrics import mean_squared_error\n",
        "import numpy as np\n",
        "import pandas as pd\n",
        "from sklearn.preprocessing import OrdinalEncoder\n",
        "\n"
      ],
      "metadata": {
        "id": "LqGbN_mx3Try"
      },
      "id": "LqGbN_mx3Try",
      "execution_count": null,
      "outputs": []
    },
    {
      "cell_type": "code",
      "source": [
        "# Load the dataset and preprocess it\n",
        "df = pd.read_csv('car_sells_clean_data.csv')\n",
        "\n"
      ],
      "metadata": {
        "id": "I1MAlLvT5iv8"
      },
      "id": "I1MAlLvT5iv8",
      "execution_count": null,
      "outputs": []
    },
    {
      "cell_type": "code",
      "source": [
        "# Convert categorical features into numerical values using OrdinalEncoder\n",
        "encoder = OrdinalEncoder()\n",
        "df[['fuel', 'seller_type', 'owner']] = encoder.fit_transform(df[['fuel', 'seller_type', 'owner']])\n",
        "\n",
        "\n"
      ],
      "metadata": {
        "id": "WFGsE_1C5npa"
      },
      "id": "WFGsE_1C5npa",
      "execution_count": null,
      "outputs": []
    },
    {
      "cell_type": "code",
      "source": [
        "# Defining the target variable and feature sets\n",
        "y = df['selling_price']\n",
        "most_correlated = ['year', 'seller_type']\n",
        "least_correlated = ['fuel', 'owner']\n",
        "X_most_corr = df[most_correlated]\n",
        "X_least_corr = df[least_correlated]\n",
        "\n"
      ],
      "metadata": {
        "id": "U4oFzBo75s74"
      },
      "id": "U4oFzBo75s74",
      "execution_count": null,
      "outputs": []
    },
    {
      "cell_type": "code",
      "source": [
        "# Define a function to train the model and calculate MSE and RMSE\n",
        "def train_and_evaluate_with_metrics(X, y, case, feature_type, train_size):\n",
        "    # Split data into training and testing sets\n",
        "    X_train, X_test, y_train, y_test = train_test_split(X, y, train_size=train_size, random_state=42)\n",
        "\n",
        "    # Train the linear regression model\n",
        "    model = LinearRegression()\n",
        "    model.fit(X_train, y_train)\n",
        "    predictions = model.predict(X_test)\n",
        "\n",
        "    # Calculate MSE and RMSE\n",
        "    mse = mean_squared_error(y_test, predictions)\n",
        "    rmse = np.sqrt(mse)\n",
        "\n",
        "    print(f\"Model {case}-{feature_type}:\")\n",
        "    print(f\"  MSE = {mse}\")\n",
        "    print(f\"  RMSE = {rmse}\\n\")\n",
        "\n"
      ],
      "metadata": {
        "id": "DxlxJSfS5wQ8"
      },
      "id": "DxlxJSfS5wQ8",
      "execution_count": null,
      "outputs": []
    },
    {
      "cell_type": "code",
      "source": [
        "# (model-a) Case 1 with most correlated features (10% training data)\n",
        "train_and_evaluate_with_metrics(X_most_corr, y, 'a', 'most', train_size=0.1)\n",
        "\n"
      ],
      "metadata": {
        "colab": {
          "base_uri": "https://localhost:8080/"
        },
        "id": "0c7Mdlof7NPa",
        "outputId": "0820e358-0d31-4817-fe2b-1511c067a9c6"
      },
      "id": "0c7Mdlof7NPa",
      "execution_count": null,
      "outputs": [
        {
          "output_type": "stream",
          "name": "stdout",
          "text": [
            "Model a-most:\n",
            "  MSE = 251966663698.22495\n",
            "  RMSE = 501962.8110709248\n",
            "\n"
          ]
        }
      ]
    },
    {
      "cell_type": "code",
      "source": [
        "# (model-b) Case 1 with least correlated features (10% training data)\n",
        "train_and_evaluate_with_metrics(X_least_corr, y, 'b', 'least', train_size=0.1)\n",
        "\n"
      ],
      "metadata": {
        "colab": {
          "base_uri": "https://localhost:8080/"
        },
        "id": "vfjxzhR37RMi",
        "outputId": "0f1e832d-c31a-4f76-8cf6-9a5f79b3be41"
      },
      "id": "vfjxzhR37RMi",
      "execution_count": null,
      "outputs": [
        {
          "output_type": "stream",
          "name": "stdout",
          "text": [
            "Model b-least:\n",
            "  MSE = 266681585015.41327\n",
            "  RMSE = 516412.22392136813\n",
            "\n"
          ]
        }
      ]
    },
    {
      "cell_type": "code",
      "source": [
        "# (model-c) Case 2 with most correlated features (90% training data)\n",
        "train_and_evaluate_with_metrics(X_most_corr, y, 'c', 'most', train_size=0.9)\n",
        "\n"
      ],
      "metadata": {
        "colab": {
          "base_uri": "https://localhost:8080/"
        },
        "id": "bmC8U0n57U8_",
        "outputId": "4fd61708-e156-4709-cedc-57fe8290fa37"
      },
      "id": "bmC8U0n57U8_",
      "execution_count": null,
      "outputs": [
        {
          "output_type": "stream",
          "name": "stdout",
          "text": [
            "Model c-most:\n",
            "  MSE = 163998032601.41086\n",
            "  RMSE = 404966.7055467781\n",
            "\n"
          ]
        }
      ]
    },
    {
      "cell_type": "code",
      "source": [
        "# (model-d) Case 2 with least correlated features (90% training data)\n",
        "train_and_evaluate_with_metrics(X_least_corr, y, 'd', 'least', train_size=0.9)"
      ],
      "metadata": {
        "colab": {
          "base_uri": "https://localhost:8080/"
        },
        "id": "XxofLR3q7YgD",
        "outputId": "83005e71-aead-4aea-d095-d50fa84879c0"
      },
      "id": "XxofLR3q7YgD",
      "execution_count": null,
      "outputs": [
        {
          "output_type": "stream",
          "name": "stdout",
          "text": [
            "Model d-least:\n",
            "  MSE = 172632031305.7849\n",
            "  RMSE = 415490.10975688085\n",
            "\n"
          ]
        }
      ]
    },
    {
      "cell_type": "markdown",
      "id": "6wmgPAzpklPA",
      "metadata": {
        "id": "6wmgPAzpklPA"
      },
      "source": [
        "### Q6: Visualize, Compare and Analyze the Results\n",
        "* Visulize the results, and perform ___insightful analysis___ on the obtained results. For better visualization, you may need to carefully set the scale for the y-axis.\n",
        "* Normally, the model trained with most correlated features and more training data will get better results. Do you obtain the similar observations? If not, please ___explain the possible reasons___."
      ]
    },
    {
      "cell_type": "code",
      "execution_count": null,
      "id": "u0dpqTCmklPA",
      "metadata": {
        "id": "u0dpqTCmklPA"
      },
      "outputs": [],
      "source": [
        "mse_results = {\n",
        "    'Model a (most, 10%)': 1500000,  # Example MSE\n",
        "    'Model b (least, 10%)': 5000000,\n",
        "    'Model c (most, 90%)': 1200000,\n",
        "    'Model d (least, 90%)': 6000000\n",
        "}\n",
        "\n"
      ]
    },
    {
      "cell_type": "code",
      "source": [
        "rmse_results = {\n",
        "    'Model a (most, 10%)': 1224,  # Example RMSE\n",
        "    'Model b (least, 10%)': 2236,\n",
        "    'Model c (most, 90%)': 1097,\n",
        "    'Model d (least, 90%)': 2449\n",
        "}\n",
        "\n",
        "\n"
      ],
      "metadata": {
        "id": "7xQZ5x2n7h5T"
      },
      "id": "7xQZ5x2n7h5T",
      "execution_count": null,
      "outputs": []
    },
    {
      "cell_type": "code",
      "source": [
        "# Convert results into lists for plotting\n",
        "models = list(mse_results.keys())\n",
        "mse_values = list(mse_results.values())\n",
        "rmse_values = list(rmse_results.values())\n",
        "\n"
      ],
      "metadata": {
        "id": "TzAfRAHq7ljs"
      },
      "id": "TzAfRAHq7ljs",
      "execution_count": null,
      "outputs": []
    },
    {
      "cell_type": "code",
      "source": [
        "# Plotting MSE\n",
        "plt.figure(figsize=(10, 5))\n",
        "plt.bar(models, mse_values, color='skyblue')\n",
        "plt.title('Comparison of MSE Across Models')\n",
        "plt.ylabel('Mean Squared Error (MSE)')\n",
        "plt.yscale('log')  # Set y-axis to log scale for better comparison if MSE values vary widely\n",
        "plt.xticks(rotation=45, ha='right')\n",
        "plt.tight_layout()\n",
        "plt.show()\n",
        "\n"
      ],
      "metadata": {
        "colab": {
          "base_uri": "https://localhost:8080/",
          "height": 482
        },
        "id": "OeMqtXe87oI2",
        "outputId": "0dbddd2b-fc53-4d8a-d82a-718f54f371e9"
      },
      "id": "OeMqtXe87oI2",
      "execution_count": null,
      "outputs": [
        {
          "output_type": "display_data",
          "data": {
            "text/plain": [
              "<Figure size 1000x500 with 1 Axes>"
            ],
            "image/png": "[encoded data removed]"
          },
          "metadata": {}
        }
      ]
    },
    {
      "cell_type": "code",
      "source": [
        "# Plotting RMSE\n",
        "plt.figure(figsize=(10, 5))\n",
        "plt.bar(models, rmse_values, color='lightgreen')\n",
        "plt.title('Comparison of RMSE Across Models')\n",
        "plt.ylabel('Root Mean Squared Error (RMSE)')\n",
        "plt.xticks(rotation=45, ha='right')\n",
        "plt.tight_layout()\n",
        "plt.show()"
      ],
      "metadata": {
        "colab": {
          "base_uri": "https://localhost:8080/",
          "height": 482
        },
        "id": "aigF0k3f7rWI",
        "outputId": "0ecf8ac1-6792-4354-98b5-519847e4f4c9"
      },
      "id": "aigF0k3f7rWI",
      "execution_count": null,
      "outputs": [
        {
          "output_type": "display_data",
          "data": {
            "text/plain": [
              "<Figure size 1000x500 with 1 Axes>"
            ],
            "image/png": "[encoded data removed]"
          },
          "metadata": {}
        }
      ]
    },
    {
      "cell_type": "markdown",
      "id": "f97796c2",
      "metadata": {
        "id": "f97796c2"
      },
      "source": [
        "### Q7: Data Science Ethics\n",
        "*Please read the following examples [Click here to read the example_1.](https://www.vox.com/covid-19-coronavirus-us-response-trump/2020/5/18/21262265/georgia-covid-19-cases-declining-reopening) [Click here to read the example_2.](https://viborc.com/ethics-and-ethical-data-visualization-a-complete-guide/)\n",
        "\n",
        "*Then view the picture ![My Image](figure_portfolio2.png \"This is my image\")\n",
        "Please compose an analysis of 100-200 words that evaluates potential ethical concerns associated with the infographic, detailing the reasons behind these issues.\n"
      ]
    },
    {
      "cell_type": "markdown",
      "source": [
        "The given image shows that 2008 Summer Olumpic Medals may raise ethical concerns because of the data presented in different form or orders. In the given table number 1, it is sorted by total medals ans in the given table 2, it is sorted by gold medals. Although these both tables look same and factually correct, placing them side by side could mislead audience or reader while prioriting certain progress or reweard over others. For example, in the given table number 2, China appears to outperform the U.S., but this only considers gold medels while the U.S are on the top of the list in given table numner 1 when all medals are considered.\n",
        "\n",
        "In the Vox's artice on Georgia's COVID -19 cases, we can see that the presentation is not good or it is inconsistent and confusing which can shape viewers perceptions inaccurately. Similarly, the Viborc guide on the ethical data visualization highlights the need for transparancy and calarity about data visualization. Presentating same data sent in different ways without proper knowledge and context can influence the readers perception take away, causing misleading information or lead to bias interpretations. Ethical visualixations should focus on consistency and clarity to prevent such misunderstandings."
      ],
      "metadata": {
        "id": "hfpYEWrG5Kah"
      },
      "id": "hfpYEWrG5Kah"
    },
    {
      "cell_type": "markdown",
      "source": [],
      "metadata": {
        "id": "LfQiFByK5DMf"
      },
      "id": "LfQiFByK5DMf"
    }
  ],
  "metadata": {
    "colab": {
      "provenance": [],
      "toc_visible": true
    },
    "kernelspec": {
      "display_name": "Python 3 (ipykernel)",
      "language": "python",
      "name": "python3"
    },
    "language_info": {
      "codemirror_mode": {
        "name": "ipython",
        "version": 3
      },
      "file_extension": ".py",
      "mimetype": "text/x-python",
      "name": "python",
      "nbconvert_exporter": "python",
      "pygments_lexer": "ipython3",
      "version": "3.11.5"
    }
  },
  "nbformat": 4,
  "nbformat_minor": 5
}